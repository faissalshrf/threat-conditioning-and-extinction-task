{
 "cells": [
  {
   "cell_type": "code",
   "execution_count": 1,
   "id": "4feaf4f3",
   "metadata": {},
   "outputs": [],
   "source": [
    "import pandas as pd\n",
    "import os"
   ]
  },
  {
   "cell_type": "code",
   "execution_count": 7,
   "id": "a3613e90",
   "metadata": {},
   "outputs": [
    {
     "name": "stdout",
     "output_type": "stream",
     "text": [
      "              CSName                UCSName          SoundName  TrgCol\n",
      "18   Stimuli/Neg.BMP        Stimuli/Neg.BMP   Sound/silent.wav     0.0\n",
      "22   Stimuli/Neg.BMP        Stimuli/Neg.BMP   Sound/silent.wav     0.0\n",
      "53   Stimuli/Neg.BMP        Stimuli/Neg.BMP   Sound/silent.wav     0.0\n",
      "56   Stimuli/Neg.BMP        Stimuli/Neg.BMP   Sound/silent.wav     0.0\n",
      "6    Stimuli/Neg.BMP    Stimuli/Neg_UCS.BMP  Sound/scream1.wav     0.2\n",
      "..               ...                    ...                ...     ...\n",
      "59   Stimuli/Pos.BMP    Stimuli/Pos_UCS.BMP   Sound/laugh1.wav     0.8\n",
      "62   Stimuli/Pos.BMP    Stimuli/Pos_UCS.BMP   Sound/laugh1.wav     0.8\n",
      "1   Stimuli/Trig.BMP  Stimuli/Raw_black.BMP   Sound/silent.wav     0.9\n",
      "36  Stimuli/Trig.BMP  Stimuli/Raw_black.BMP   Sound/silent.wav     0.9\n",
      "61  Stimuli/Trig.BMP  Stimuli/Raw_black.BMP   Sound/silent.wav     0.9\n",
      "\n",
      "[63 rows x 4 columns]\n"
     ]
    }
   ],
   "source": [
    "fn = \"2_Condition_Short.xlsx\"\n",
    "df = pd.read_excel(os.path.join(\"templates\", fn))\n",
    "sorted_df = df.sort_values(by=['CSName','UCSName'])\n",
    "print(sorted_df)"
   ]
  },
  {
   "cell_type": "code",
   "execution_count": 8,
   "id": "609c9cef",
   "metadata": {},
   "outputs": [
    {
     "data": {
      "text/plain": [
       "CSName            UCSName                SoundName          TrgCol\n",
       "Stimuli/Neu.BMP   Stimuli/Neu.BMP        Sound/silent.wav   0.4       20\n",
       "Stimuli/Neg.BMP   Stimuli/Neg_UCS.BMP    Sound/scream1.wav  0.2       16\n",
       "Stimuli/Pos.BMP   Stimuli/Pos_UCS.BMP    Sound/laugh1.wav   0.8       16\n",
       "Stimuli/Neg.BMP   Stimuli/Neg.BMP        Sound/silent.wav   0.0        4\n",
       "Stimuli/Pos.BMP   Stimuli/Pos.BMP        Sound/silent.wav   0.6        4\n",
       "Stimuli/Trig.BMP  Stimuli/Raw_black.BMP  Sound/silent.wav   0.9        3\n",
       "Name: count, dtype: int64"
      ]
     },
     "execution_count": 8,
     "metadata": {},
     "output_type": "execute_result"
    }
   ],
   "source": [
    "df.value_counts()"
   ]
  },
  {
   "cell_type": "code",
   "execution_count": 9,
   "id": "3b0484a5",
   "metadata": {},
   "outputs": [],
   "source": [
    "df1 = pd.DataFrame(columns=df.columns)\n",
    "df2 = pd.DataFrame(columns=df.columns)\n",
    "for i in range(len(df)):\n",
    "    # print(sorted_df.iloc[i])\n",
    "    # print(type(sorted_df.iloc[i]))\n",
    "    if i % 2 == 0:\n",
    "        df1.loc[i // 2] = sorted_df.iloc[i]\n",
    "    else:\n",
    "        df2.loc[i // 2] = sorted_df.iloc[i]"
   ]
  },
  {
   "cell_type": "code",
   "execution_count": 10,
   "id": "54adc31b",
   "metadata": {},
   "outputs": [],
   "source": [
    "while df1[df1['UCSName'] == \"Stimuli/Neg.BMP\"].index[0] < df1[df1['UCSName'] == \"Stimuli/Neg_UCS.BMP\"].index[0] \\\n",
    "    or df1[df1['UCSName'] == \"Stimuli/Pos.BMP\"].index[0] < df1[df1['UCSName'] == \"Stimuli/Pos_UCS.BMP\"].index[0]:\n",
    "    df1 = df1.sample(frac=1).reset_index(drop=True)\n",
    "while df2[df2['UCSName'] == \"Stimuli/Neg.BMP\"].index[0] < df2[df2['UCSName'] == \"Stimuli/Neg_UCS.BMP\"].index[0] \\\n",
    "    or df2[df2['UCSName'] == \"Stimuli/Pos.BMP\"].index[0] < df2[df2['UCSName'] == \"Stimuli/Pos_UCS.BMP\"].index[0]:\n",
    "    df2 = df2.sample(frac=1).reset_index(drop=True)\n",
    "new_df = pd.concat([df1, df2], axis=0)\n",
    "# new_df = new_df.drop(columns=[\"index\"])\n",
    "# new_df = new_df.droplevel(0, axis=1) "
   ]
  },
  {
   "cell_type": "code",
   "execution_count": 11,
   "id": "95987261",
   "metadata": {},
   "outputs": [],
   "source": [
    "new_df.to_excel(fn, index=False)"
   ]
  },
  {
   "cell_type": "code",
   "execution_count": null,
   "id": "488c56a8",
   "metadata": {},
   "outputs": [],
   "source": []
  }
 ],
 "metadata": {
  "kernelspec": {
   "display_name": "Python 3 (ipykernel)",
   "language": "python",
   "name": "python3"
  },
  "language_info": {
   "codemirror_mode": {
    "name": "ipython",
    "version": 3
   },
   "file_extension": ".py",
   "mimetype": "text/x-python",
   "name": "python",
   "nbconvert_exporter": "python",
   "pygments_lexer": "ipython3",
   "version": "3.10.9"
  }
 },
 "nbformat": 4,
 "nbformat_minor": 5
}
